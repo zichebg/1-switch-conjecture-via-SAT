{
 "cells": [
  {
   "cell_type": "code",
   "execution_count": 84,
   "metadata": {},
   "outputs": [
    {
     "data": {
      "text/plain": [
       "4515840"
      ]
     },
     "execution_count": 84,
     "metadata": {},
     "output_type": "execute_result"
    }
   ],
   "source": [
    "import numpy\n",
    "import math\n",
    "N=7\n",
    "var=int(2**N*7/2)\n",
    "cnf=int(2**N*(N*1*2*3*4*5*6*7))\n",
    "cnf"
   ]
  },
  {
   "cell_type": "code",
   "execution_count": 85,
   "metadata": {},
   "outputs": [],
   "source": [
    "with open('cube7.cnf', 'w') as file:\n",
    "    file.write(f\"p cnf {var} {cnf} \\n\")\n"
   ]
  },
  {
   "cell_type": "code",
   "execution_count": 86,
   "metadata": {},
   "outputs": [
    {
     "name": "stdout",
     "output_type": "stream",
     "text": [
      "[(0, 0, 0, 0, 0, 0, 0), (0, 0, 0, 0, 0, 0, 1), (0, 0, 0, 0, 0, 1, 0), (0, 0, 0, 0, 0, 1, 1), (0, 0, 0, 0, 1, 0, 0), (0, 0, 0, 0, 1, 0, 1), (0, 0, 0, 0, 1, 1, 0), (0, 0, 0, 0, 1, 1, 1), (0, 0, 0, 1, 0, 0, 0), (0, 0, 0, 1, 0, 0, 1), (0, 0, 0, 1, 0, 1, 0), (0, 0, 0, 1, 0, 1, 1), (0, 0, 0, 1, 1, 0, 0), (0, 0, 0, 1, 1, 0, 1), (0, 0, 0, 1, 1, 1, 0), (0, 0, 0, 1, 1, 1, 1), (0, 0, 1, 0, 0, 0, 0), (0, 0, 1, 0, 0, 0, 1), (0, 0, 1, 0, 0, 1, 0), (0, 0, 1, 0, 0, 1, 1), (0, 0, 1, 0, 1, 0, 0), (0, 0, 1, 0, 1, 0, 1), (0, 0, 1, 0, 1, 1, 0), (0, 0, 1, 0, 1, 1, 1), (0, 0, 1, 1, 0, 0, 0), (0, 0, 1, 1, 0, 0, 1), (0, 0, 1, 1, 0, 1, 0), (0, 0, 1, 1, 0, 1, 1), (0, 0, 1, 1, 1, 0, 0), (0, 0, 1, 1, 1, 0, 1), (0, 0, 1, 1, 1, 1, 0), (0, 0, 1, 1, 1, 1, 1), (0, 1, 0, 0, 0, 0, 0), (0, 1, 0, 0, 0, 0, 1), (0, 1, 0, 0, 0, 1, 0), (0, 1, 0, 0, 0, 1, 1), (0, 1, 0, 0, 1, 0, 0), (0, 1, 0, 0, 1, 0, 1), (0, 1, 0, 0, 1, 1, 0), (0, 1, 0, 0, 1, 1, 1), (0, 1, 0, 1, 0, 0, 0), (0, 1, 0, 1, 0, 0, 1), (0, 1, 0, 1, 0, 1, 0), (0, 1, 0, 1, 0, 1, 1), (0, 1, 0, 1, 1, 0, 0), (0, 1, 0, 1, 1, 0, 1), (0, 1, 0, 1, 1, 1, 0), (0, 1, 0, 1, 1, 1, 1), (0, 1, 1, 0, 0, 0, 0), (0, 1, 1, 0, 0, 0, 1), (0, 1, 1, 0, 0, 1, 0), (0, 1, 1, 0, 0, 1, 1), (0, 1, 1, 0, 1, 0, 0), (0, 1, 1, 0, 1, 0, 1), (0, 1, 1, 0, 1, 1, 0), (0, 1, 1, 0, 1, 1, 1), (0, 1, 1, 1, 0, 0, 0), (0, 1, 1, 1, 0, 0, 1), (0, 1, 1, 1, 0, 1, 0), (0, 1, 1, 1, 0, 1, 1), (0, 1, 1, 1, 1, 0, 0), (0, 1, 1, 1, 1, 0, 1), (0, 1, 1, 1, 1, 1, 0), (0, 1, 1, 1, 1, 1, 1)]\n"
     ]
    }
   ],
   "source": [
    "# 初始化状态\n",
    "state = [0, 0, 0, 0, 0, 0,0]\n",
    "results = []\n",
    "\n",
    "# 循环直到达到目标状态\n",
    "while True:\n",
    "    results.append(tuple(state))  # 保存当前状态到列表\n",
    "    \n",
    "    # 从后往前修改布尔值，跳过第一位\n",
    "    for i in range(len(state) - 1, 0, -1):\n",
    "        if state[i] == 0:\n",
    "            state[i] = 1\n",
    "            break\n",
    "        else:\n",
    "            state[i] = 0\n",
    "            \n",
    "    # 如果所有分量都为1，结束循环\n",
    "    if all(x == 1 for x in state[1:]):  # 只检查从第二位开始\n",
    "        results.append(tuple(state))  # 添加最终状态\n",
    "        break\n",
    "\n",
    "results=list(results)\n",
    "print(results)\n"
   ]
  },
  {
   "cell_type": "code",
   "execution_count": 87,
   "metadata": {},
   "outputs": [
    {
     "name": "stdout",
     "output_type": "stream",
     "text": [
      "530\n"
     ]
    }
   ],
   "source": [
    "def edge_name(x1, x2):\n",
    "    # 找到不同的分量索引\n",
    "    i = next(idx for idx in range(len(x1)) if x1[idx] != x2[idx])\n",
    "    \n",
    "    # 删除第i位\n",
    "    remaining = [x1[j] for j in range(len(x1)) if j != i]\n",
    "    \n",
    "    # 转化为二进制字符串并再转为十进制数\n",
    "    decimal_value = int(''.join(map(str, remaining)), 2)\n",
    "    \n",
    "    # 组合成三位数字，i作为百位\n",
    "    edge_name = i * 100 + decimal_value\n",
    "    return edge_name\n",
    "\n",
    "# 示例向量\n",
    "x1 = [0, 1, 1, 1, 1, 1,0]\n",
    "x2 = [0, 1, 1, 1, 1, 0,0]\n",
    "\n",
    "# 计算边的名字\n",
    "result = edge_name(x1, x2)\n",
    "print(result)\n"
   ]
  },
  {
   "cell_type": "code",
   "execution_count": 88,
   "metadata": {},
   "outputs": [
    {
     "name": "stdout",
     "output_type": "stream",
     "text": [
      "105 在排序中的位置是: 70\n"
     ]
    }
   ],
   "source": [
    "def get_order(number):\n",
    "    # 创建所需范围的数字列表\n",
    "    numbers = []\n",
    "    for start in range(0, 700, 100):\n",
    "        numbers.extend(range(start, start + 64))\n",
    "    \n",
    "    # 按大小排序\n",
    "    numbers.sort()\n",
    "    \n",
    "    # 找到输入数字的排名\n",
    "    order = numbers.index(number) + 1  # +1 因为排名从1开始\n",
    "    return order\n",
    "\n",
    "# 示例输入\n",
    "number = 105\n",
    "result = get_order(number)\n",
    "print(f\"{number} 在排序中的位置是: {result}\")\n"
   ]
  },
  {
   "cell_type": "markdown",
   "metadata": {},
   "source": [
    "with open('t_suitable.txt', 'a') as file:\n",
    "    for a in range(0,32):\n",
    "        for i1 in range(0,6):\n",
    "            V1 = list(results[a])\n",
    "            V1[i1]=1-V1[i1]  \n",
    "\n",
    "            for i2 in range(0,6):\n",
    "                if i2!=i1:\n",
    "                    V2=V1.copy()\n",
    "                    V2[i2]=1-V2[i2]\n",
    "\n",
    "                    for i3 in range(0,6):\n",
    "                        if i3!=i2 and i3!=i1:\n",
    "                            V3=V2.copy()\n",
    "                            V3[i3]=1-V3[i3]\n",
    "\n",
    "                            for i4 in range(0,6):\n",
    "                                if i4!= i3 and i4!=i2 and i4!=i1:\n",
    "                                    V4=V3.copy()\n",
    "                                    V4[i4]=1-V4[i4]\n",
    "\n",
    "                                for i5 in range(0,6):\n",
    "                                    if i5!= i3 and i5!=i2 and i5!=i1 and i5!=i4:\n",
    "                                        V5=V4.copy()\n",
    "                                        V5[i5]=1-V5[i5]\n",
    "                                        \n",
    "                                        for i6 in range(0,6):\n",
    "                                            if i6!= i3 and i6!=i2 and i6!=i1 and i6!=i4 and i6 != i5:\n",
    "                                                V6=V5.copy()\n",
    "                                                V6[i6]=1-V6[i6]\n",
    "                                                E1=get_order(edge_name(results[a], V1))\n",
    "                                                E2=get_order(edge_name(V2, V1))\n",
    "                                                E3=get_order(edge_name(V3, V2))\n",
    "                                                E4=get_order(edge_name(V3, V4))\n",
    "                                                E5=get_order(edge_name(V4, V5))\n",
    "                                                E6=get_order(edge_name(V5, V6))\n",
    "                                                file.write(f\" {E1} {E2} {E3} {E4} {E5} {E6} 0\\n\")\n",
    "                                                file.write(f\" -{E1} {E2} {E3} {E4} {E5} {E6} 0\\n\")\n",
    "                                                file.write(f\" -{E1} -{E2} {E3} {E4} {E5} {E6} 0\\n\")\n",
    "                                                file.write(f\" -{E1} -{E2} -{E3} {E4} {E5} {E6} 0\\n\")\n",
    "                                                file.write(f\" -{E1} -{E2} -{E3} -{E4} {E5} {E6} 0\\n\")\n",
    "                                                file.write(f\" -{E1} -{E2} -{E3} -{E4} -{E5} {E6} 0\\n\")\n",
    "                                                file.write(f\" -{E1} -{E2} -{E3} -{E4} -{E5} -{E6} 0\\n\")\n",
    "                                                file.write(f\" {E1} -{E2} -{E3} -{E4} -{E5} -{E6} 0\\n\")\n",
    "                                                file.write(f\" {E1} {E2} -{E3} -{E4} -{E5} -{E6} 0\\n\")\n",
    "                                                file.write(f\" {E1} {E2} {E3} -{E4} -{E5} -{E6} 0\\n\")\n",
    "                                                file.write(f\" {E1} {E2} {E3} {E4} -{E5} -{E6} 0\\n\")\n",
    "                                                file.write(f\" {E1} {E2} {E3} {E4} {E5} -{E6} 0\\n\")"
   ]
  },
  {
   "cell_type": "code",
   "execution_count": null,
   "metadata": {},
   "outputs": [],
   "source": [
    "with open('cube7.cnf', 'a') as file:\n",
    "    for a in range(64):\n",
    "        for i1 in range(N):\n",
    "            V1 = list(results[a])\n",
    "            V1[i1] = 1 - V1[i1]\n",
    "\n",
    "            for i2 in range(N):\n",
    "                if i2 != i1:\n",
    "                    V2 = V1.copy()\n",
    "                    V2[i2] = 1 - V2[i2]\n",
    "\n",
    "                    for i3 in range(N):\n",
    "                        if i3 not in (i1, i2):\n",
    "                            V3 = V2.copy()\n",
    "                            V3[i3] = 1 - V3[i3]\n",
    "\n",
    "                            for i4 in range(N):\n",
    "                                if i4 not in (i1, i2, i3):\n",
    "                                    V4 = V3.copy()\n",
    "                                    V4[i4] = 1 - V4[i4]\n",
    "\n",
    "                                    for i5 in range(N):\n",
    "                                        if i5 not in (i1, i2, i3, i4):\n",
    "                                            V5 = V4.copy()\n",
    "                                            V5[i5] = 1 - V5[i5]\n",
    "\n",
    "                                            for i6 in range(N):\n",
    "                                                if i6 not in (i1, i2, i3, i4, i5):\n",
    "                                                    V6 = V5.copy()\n",
    "                                                    V6[i6] = 1 - V6[i6]\n",
    "                                                    \n",
    "                                                    for i7 in range(N):\n",
    "                                                        if i7 not in (i1, i2, i3, i4, i5,i6):\n",
    "                                                            V7 = V6.copy()\n",
    "                                                            V7[i7] = 1 - V7[i7]\n",
    "\n",
    "\n",
    "\n",
    "                                                            # 获取边的名称\n",
    "                                                            E1 = get_order(edge_name(results[a], V1))\n",
    "                                                            E2 = get_order(edge_name(V2, V1))\n",
    "                                                            E3 = get_order(edge_name(V3, V2))\n",
    "                                                            E4 = get_order(edge_name(V4, V3))\n",
    "                                                            E5 = get_order(edge_name(V5, V4))\n",
    "                                                            E6 = get_order(edge_name(V6, V5))\n",
    "                                                            E7 = get_order(edge_name(V6, V7))\n",
    "\n",
    "                                                            # 写入文件\n",
    "                                                            for line in [\n",
    "                                                        f\" {E1} {E2} {E3} {E4} {E5} {E6} {E7} 0\\n\",\n",
    "                                                        f\" -{E1} {E2} {E3} {E4} {E5} {E6} {E7} 0\\n\",\n",
    "                                                        f\" -{E1} -{E2} {E3} {E4} {E5} {E6} {E7} 0\\n\",\n",
    "                                                        f\" -{E1} -{E2} -{E3} {E4} {E5} {E6} {E7} 0\\n\",\n",
    "                                                        f\" -{E1} -{E2} -{E3} -{E4} {E5} {E6} {E7} 0\\n\",\n",
    "                                                        f\" -{E1} -{E2} -{E3} -{E4} -{E5} {E6} {E7} 0\\n\",\n",
    "                                                        f\" -{E1} -{E2} -{E3} -{E4} -{E5} -{E6}  {E7} 0\\n\",\n",
    "                                                        f\" -{E1} -{E2} -{E3} -{E4} -{E5} -{E6}  -{E7} 0\\n\",\n",
    "                                                        f\" {E1} -{E2} -{E3} -{E4} -{E5} -{E6} -{E7} 0\\n\",\n",
    "                                                        f\" {E1} {E2} -{E3} -{E4} -{E5} -{E6} -{E7} 0\\n\",\n",
    "                                                        f\" {E1} {E2} {E3} -{E4} -{E5} -{E6} -{E7} 0\\n\",\n",
    "                                                        f\" {E1} {E2} {E3} {E4} -{E5} -{E6} -{E7} 0\\n\",\n",
    "                                                        f\" {E1} {E2} {E3} {E4} {E5} -{E6} -{E7} 0\\n\"\n",
    "                                                        f\" {E1} {E2} {E3} {E4} {E5} {E6} -{E7} 0\\n\",\n",
    "                                                    ]:\n",
    "                                                             file.write(line)\n"
   ]
  },
  {
   "cell_type": "markdown",
   "metadata": {},
   "source": []
  }
 ],
 "metadata": {
  "kernelspec": {
   "display_name": "Python 3",
   "language": "python",
   "name": "python3"
  },
  "language_info": {
   "codemirror_mode": {
    "name": "ipython",
    "version": 3
   },
   "file_extension": ".py",
   "mimetype": "text/x-python",
   "name": "python",
   "nbconvert_exporter": "python",
   "pygments_lexer": "ipython3",
   "version": "3.12.6"
  }
 },
 "nbformat": 4,
 "nbformat_minor": 2
}
